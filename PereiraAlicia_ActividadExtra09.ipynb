{
 "cells": [
  {
   "cell_type": "raw",
   "id": "fdfec2b6-f844-4710-9145-9eb7443121d3",
   "metadata": {},
   "source": [
    "---\n",
    "title: \"Métodos Numéricos - Actividad Extra 09\"\n",
    "author: \"Alicia Pereira\"\n",
    "date: \"December 17, 2024\"\n",
    "format: \n",
    "  pdf:\n",
    "    documentclass: article\n",
    "    number-sections: true\n",
    "    include-in-header: header.tex\n",
    "toc: true\n",
    "toc-title: \"Contenido\"\n",
    "fontsize: 11pt\n",
    "linestretch: 1.5\n",
    "lang: es\n",
    "engine: pdflatex\n",
    "---"
   ]
  },
  {
   "cell_type": "markdown",
   "id": "4e81f4ee-9116-4402-9eac-28e5d44deff5",
   "metadata": {},
   "source": [
    "# ¿Qué hace la función _atan2_?"
   ]
  },
  {
   "cell_type": "markdown",
   "id": "a7f466c0-61e6-455c-bfd2-94defbdc1b27",
   "metadata": {},
   "source": [
    "La función $atan2(x,y)$ se encarga de calcular el ángulo en radianes cuya tangente es igual a $\\frac{y}{x}$, considerando a su vez el signo de ambos parámetros _y_ y _x_. Se caracteriza por tener en cuenta en qué cuadrante se encuentra el punto $(x,y)$, lo que la hace ideal para calcular ángulos en coordenadas polares. \n",
    "\n",
    "El rango de resultado de _atan2_ está en $[-\\pi,\\pi]$, cubriendo los cuatro cuadrantes del plano cartesiano."
   ]
  },
  {
   "cell_type": "markdown",
   "id": "cc45cb73-9ff4-4481-86ae-46ff5893612f",
   "metadata": {},
   "source": [
    "## Librerías de Python que implementan _atan2_\n",
    "\n",
    "- **math:** Librería estándar de Python, admite valores escalares para esta función, por lo que es ideal para cálculos básicos con datos individuales.\n",
    "\n",
    "$$math.atan2(y, x)$$\n",
    "\n",
    "- **NumPy:**  En esta librería, la función soporta operaciones vectorizadas, es decir, es posible calcular ángulos para arrays enteros de forma simultánea.\n",
    "\n",
    "$$numpy.atan2(x1, x2, /, out=None, *, where=True, casting='same\\_kind',$$\n",
    "$$order='K', dtype=None, subok=True[, signature]) = <ufunc 'arctan2'>$$"
   ]
  },
  {
   "cell_type": "markdown",
   "id": "30b1b512-7081-4970-889b-75dc40544470",
   "metadata": {},
   "source": [
    "_**Ejemplo Comparativo**_"
   ]
  },
  {
   "cell_type": "code",
   "execution_count": 25,
   "id": "3723eb94-1669-4315-bb9c-fc2fec1cbe6f",
   "metadata": {},
   "outputs": [
    {
     "name": "stdout",
     "output_type": "stream",
     "text": [
      "math.atan2: 0.7853981633974483\n",
      "numpy.arctan2: [ 0.78539816 -2.35619449]\n"
     ]
    }
   ],
   "source": [
    "import math\n",
    "import numpy as np\n",
    "\n",
    "# math.atan2 con escalares\n",
    "angle_math = math.atan2(1, 1)\n",
    "\n",
    "# numpy.arctan2 con arrays\n",
    "angles_numpy = np.arctan2([1, -1], [1, -1])\n",
    "\n",
    "print(f\"math.atan2: {angle_math}\")  # Resultado único\n",
    "print(f\"numpy.arctan2: {angles_numpy}\")  # Resultado para cada par (y, x)\n"
   ]
  },
  {
   "cell_type": "markdown",
   "id": "c3b07997-ad73-4993-bf92-c8a23c471936",
   "metadata": {},
   "source": [
    "# ¿Por qué se recomienda usar _atan2_?\n",
    "\n",
    "Utilizar _atan2_ es recomendable dado que no solo proporciona el ángulo correcto, sino que lo hace tomando en cuenta el signo de $x$ y $y$, tomando así en cuenta a el cuadrante correspondiente. Además, _atan2_ maneja situaciones donde $x=0$ (ejes verticales) sin errores. A diferencia de _atan_, la cual solo calcula el ángulo para $|y/x|$ lo que en ocasiones provoca resultados ambiguos. \n",
    "\n",
    "La función _atan2_ es indispensable para calcular ángulos correctos en aplicaciones gráficas, robótica, navegación, y cualquier trabajo con coordenadas polares.\n"
   ]
  },
  {
   "cell_type": "markdown",
   "id": "17d20042-f878-4ad2-9a8f-f6093ddf98fc",
   "metadata": {},
   "source": [
    "# Diferencias entre _atan_ y _atan2_"
   ]
  },
  {
   "cell_type": "markdown",
   "id": "7bb94ecf-0629-4d18-b7bb-b50015b75588",
   "metadata": {},
   "source": [
    "\n"
   ]
  },
  {
   "cell_type": "markdown",
   "id": "0a9b98bc-5dc8-491c-8727-68130c8fac85",
   "metadata": {},
   "source": [
    "\n",
    "\n",
    "\n",
    "| Característica            | `atan(y/x)`          | `atan2(y, x)`                     |\n",
    "|---------------------------|----------------------|------------------------------------|\n",
    "| **Parámetros**            | 1: \\( y/x \\)         | 2: \\( y, x \\)                     |\n",
    "| **Consideración de cuadrantes** | No                 | Sí                                |\n",
    "| **Rango del resultado**   | \\($[-\\pi/2, \\pi/2]$\\)      | \\($[-\\pi, \\pi]$\\)                       |\n",
    "| **Manejo de \\( x = 0 \\)** | Error (división por 0) | Retorna $±\\frac{\\pi}{2}$ dependiendo del signo de \\(y\\) |\n",
    "| **Aplicación**            | Cálculo simple de tangente | Coordenadas polares, gráficos, trigonometría |\n"
   ]
  },
  {
   "cell_type": "markdown",
   "id": "b817ca40-5eb0-4d34-a897-3f797b0f22b0",
   "metadata": {},
   "source": [
    "# Ejemplos en Python"
   ]
  },
  {
   "cell_type": "markdown",
   "id": "17f43f5c-0d20-48cc-9b14-9c5e3f42903c",
   "metadata": {},
   "source": [
    "1. Ángulo en primer cuadrante (_Librería math_)"
   ]
  },
  {
   "cell_type": "code",
   "execution_count": 38,
   "id": "4966d116-83f9-4976-9418-789e78c91176",
   "metadata": {},
   "outputs": [
    {
     "name": "stdout",
     "output_type": "stream",
     "text": [
      "Ángulo (radianes): 1.4288992721907328, Grados: 81.86989764584403\n"
     ]
    }
   ],
   "source": [
    "import math\n",
    "\n",
    "x, y = 1, 7\n",
    "angle = math.atan2(y, x)\n",
    "print(f\"Ángulo (radianes): {angle}, Grados: {math.degrees(angle)}\")\n"
   ]
  },
  {
   "cell_type": "markdown",
   "id": "d06d49d3-1db3-4fd7-a710-65adaa734117",
   "metadata": {},
   "source": [
    "2. Ángulo en tercer cuadrante (_Librería math_)"
   ]
  },
  {
   "cell_type": "code",
   "execution_count": 41,
   "id": "316b3efc-61cf-454b-9026-72103e7e8c17",
   "metadata": {},
   "outputs": [
    {
     "name": "stdout",
     "output_type": "stream",
     "text": [
      "Ángulo (radianes): -2.0091328866528544, Grados: -115.11483488614456\n"
     ]
    }
   ],
   "source": [
    "x, y = -1.5, -3.2\n",
    "angle = math.atan2(y, x)\n",
    "print(f\"Ángulo (radianes): {angle}, Grados: {math.degrees(angle)}\")\n"
   ]
  },
  {
   "cell_type": "markdown",
   "id": "7367ecf1-11b0-4849-bdf8-2f4b60f48879",
   "metadata": {},
   "source": [
    "3. Ángulo cuando $x=0$ (_Librería math_)"
   ]
  },
  {
   "cell_type": "code",
   "execution_count": 44,
   "id": "d14a9c05-34e0-41e7-9d2f-595b7369da10",
   "metadata": {},
   "outputs": [
    {
     "name": "stdout",
     "output_type": "stream",
     "text": [
      "Ángulo (radianes): 1.5707963267948966, Grados: 90.0\n"
     ]
    }
   ],
   "source": [
    "x, y = 0, 1\n",
    "angle = math.atan2(y, x)\n",
    "print(f\"Ángulo (radianes): {angle}, Grados: {math.degrees(angle)}\")\n"
   ]
  },
  {
   "cell_type": "markdown",
   "id": "61bf2755-7f37-4668-9977-f8bc9bdc3b38",
   "metadata": {},
   "source": [
    "4. Conversión de coordenadas cartesianas a polares para un conjunto de puntos. (_Librería NumPy_)"
   ]
  },
  {
   "cell_type": "code",
   "execution_count": 81,
   "id": "d80a5b73-2fc1-487f-a996-8c3eec4016ee",
   "metadata": {},
   "outputs": [
    {
     "name": "stdout",
     "output_type": "stream",
     "text": [
      "Coordenadas cartesianas [3 4] -> Radio: 5.0, Ángulo (grados): 53.13010235415598\n",
      "Coordenadas cartesianas [-3 -4] -> Radio: 5.0, Ángulo (grados): -126.86989764584402\n",
      "Coordenadas cartesianas [0 5] -> Radio: 5.0, Ángulo (grados): 90.0\n"
     ]
    }
   ],
   "source": [
    "import math\n",
    "import numpy as np\n",
    "\n",
    "# Coordenadas cartesianas\n",
    "cartesian_coords = np.array([[3, 4], [-3, -4], [0, 5]])\n",
    "# Usar librería NumPy\n",
    "radii = np.linalg.norm(cartesian_coords, axis=1)\n",
    "angles = np.arctan2(cartesian_coords[:, 1], cartesian_coords[:, 0])\n",
    "\n",
    "for i in range(len(cartesian_coords)):\n",
    "    print(f\"Coordenadas cartesianas {cartesian_coords[i]}\", end=\" \")\n",
    "    print(f\"-> Radio: {radii[i]}, Ángulo (grados): {np.degrees(angles[i])}\")\n"
   ]
  },
  {
   "cell_type": "markdown",
   "id": "4ca5b552-4fa4-4385-b1a4-049232fbde36",
   "metadata": {},
   "source": [
    "5. Calcular el ángulo de rotación en el plano XY en 3D para diferentes vectores."
   ]
  },
  {
   "cell_type": "code",
   "execution_count": 56,
   "id": "8d58ebcb-dd8a-4e41-99b4-1584108270d1",
   "metadata": {},
   "outputs": [
    {
     "name": "stdout",
     "output_type": "stream",
     "text": [
      "Ángulos de rotación en el plano XY: [  53.13010235 -167.47119229  -45.        ]\n"
     ]
    }
   ],
   "source": [
    "import numpy as np\n",
    "\n",
    "vectors_3d = np.array([[3, 4, 5], [-9, -2, 1], [2, -2, 3]])\n",
    "\n",
    "# ángulos de rotación en el plano XY (usando arctan2 sobre los componentes X y Y)\n",
    "angles_3d = np.arctan2(vectors_3d[:, 1], vectors_3d[:, 0])\n",
    "\n",
    "print(f\"Ángulos de rotación en el plano XY: {np.degrees(angles_3d)}\")\n"
   ]
  },
  {
   "cell_type": "markdown",
   "id": "41dc090c-c298-4474-b2ff-4549274bfdee",
   "metadata": {},
   "source": [
    "# Declaración de uso de IA"
   ]
  },
  {
   "cell_type": "markdown",
   "id": "fe6fa26d-6f73-4ffa-82e9-73cdf55b0f54",
   "metadata": {},
   "source": [
    "\n",
    "_Inteligencia artificial usada:_ [**ChatGPT**]([https://chatgpt.com/)\n",
    "\n",
    "El presente documento ha sido elaborado con apoyo de la inteligencia artificial ChatGPT, la cual ha sido usada como fuente de consulta para el desarrollo del código propuesto y garante de una redacción formal. "
   ]
  },
  {
   "cell_type": "markdown",
   "id": "59f20364-8d6a-45ef-a242-8447bca5ec7d",
   "metadata": {},
   "source": [
    "# Bibliografía\n",
    "\n",
    "[1] NumPy Developers, “numpy.atan2 — NumPy v2.1 Manual,” Numpy.org, 2024. Available: [https://numpy.org/doc/stable/reference/generated/numpy.atan2.html](https://numpy.org/doc/stable/reference/generated/numpy.atan2.html). [Accessed: Dec. 14, 2024]\n",
    "‌\n",
    "\n",
    "[2] Python Software Foundation, “math — Mathematical functions,” Python documentation, 2024. Available: [https://docs.python.org/3/library/math.html#math.atan2](https://docs.python.org/3/library/math.html#math.atan2). [Accessed: Dec. 14, 2024]\n",
    "‌\n",
    "‌"
   ]
  },
  {
   "cell_type": "markdown",
   "id": "436e2441",
   "metadata": {},
   "source": [
    "**GitHub:** git@github.com: alda244\n",
    "\n",
    "\n",
    "\n",
    "[GitHub Métodos Númericos - Repositorio](https://github.com/dayapt04/MN_Deber07)"
   ]
  }
 ],
 "metadata": {
  "kernelspec": {
   "display_name": "Python 3 (ipykernel)",
   "language": "python",
   "name": "python3"
  },
  "language_info": {
   "codemirror_mode": {
    "name": "ipython",
    "version": 3
   },
   "file_extension": ".py",
   "mimetype": "text/x-python",
   "name": "python",
   "nbconvert_exporter": "python",
   "pygments_lexer": "ipython3",
   "version": "3.12.4"
  }
 },
 "nbformat": 4,
 "nbformat_minor": 5
}
